{
  "nbformat": 4,
  "nbformat_minor": 0,
  "metadata": {
    "colab": {
      "provenance": [],
      "authorship_tag": "ABX9TyMMYadd4ZTcvMvGD6AUiHAR",
      "include_colab_link": true
    },
    "kernelspec": {
      "name": "python3",
      "display_name": "Python 3"
    },
    "language_info": {
      "name": "python"
    }
  },
  "cells": [
    {
      "cell_type": "markdown",
      "metadata": {
        "id": "view-in-github",
        "colab_type": "text"
      },
      "source": [
        "<a href=\"https://colab.research.google.com/github/vchandraiitk/vchandraiitk/blob/main/4thMay.ipynb\" target=\"_parent\"><img src=\"https://colab.research.google.com/assets/colab-badge.svg\" alt=\"Open In Colab\"/></a>"
      ]
    },
    {
      "cell_type": "code",
      "execution_count": 36,
      "metadata": {
        "colab": {
          "base_uri": "https://localhost:8080/"
        },
        "id": "Q_sSHy52nZfN",
        "outputId": "991f9fe7-4dde-4c1f-be94-3d60a35a5975"
      },
      "outputs": [
        {
          "output_type": "stream",
          "name": "stdout",
          "text": [
            "0\n",
            "1\n",
            "2478\n",
            "2479\n"
          ]
        }
      ],
      "source": [
        "def numOfDigits(num: int) -> int:\n",
        "    n=0\n",
        "    while num>0:\n",
        "        n += 1\n",
        "        num = num//10\n",
        "    return n\n",
        "\n",
        "def nextDigit(digit: int) -> int:\n",
        "    orig = digit\n",
        "    nextDigit = 0\n",
        "    hash=0\n",
        "    for i in range(0, numOfDigits(digit)):\n",
        "        d = digit%10\n",
        "        digit = digit //10\n",
        "        if d < 9:\n",
        "            hash=i\n",
        "            break\n",
        "   # print(hash)\n",
        "   # print((orig%(10**hash) + 1))\n",
        "   # print(int(orig/10**hash)*(10**hash))\n",
        "    nextDigit = orig+(orig%(10**hash) + 1)\n",
        "    return nextDigit\n",
        "\n",
        "\n",
        "print(nextDigit(2478))"
      ]
    }
  ]
}